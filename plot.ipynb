{
 "cells": [
  {
   "cell_type": "markdown",
   "metadata": {},
   "source": [
    "# results"
   ]
  },
  {
   "cell_type": "code",
   "execution_count": 2,
   "metadata": {},
   "outputs": [],
   "source": [
    "import numpy as np\n",
    "import matplotlib.pyplot as plt\n",
    "import matplotlib\n",
    "import os\n",
    "import pickle\n",
    "from matplotlib.font_manager import FontProperties  \n",
    "\n",
    "%matplotlib inline"
   ]
  },
  {
   "cell_type": "code",
   "execution_count": 6,
   "metadata": {},
   "outputs": [],
   "source": []
  },
  {
   "cell_type": "code",
   "execution_count": 3,
   "metadata": {},
   "outputs": [],
   "source": [
    "result_dict = {}\n",
    "for file in os.listdir(): \n",
    "    if file.endswith('90.pkl'):\n",
    "        with open (f'./{file}','rb') as f:\n",
    "            con = pickle.load(f)\n",
    "            result_dict[file[7:-11]] = con"
   ]
  },
  {
   "cell_type": "markdown",
   "metadata": {},
   "source": [
    "# Deploy Cost"
   ]
  },
  {
   "cell_type": "code",
   "execution_count": 8,
   "metadata": {
    "scrolled": true
   },
   "outputs": [],
   "source": [
    "# # 代码中的“...”代表省略的其他参数\n",
    "# ax = plt.subplot(111)\n",
    "# # 设置刻度字体大小\n",
    "# plt.xticks(fontsize=20)\n",
    "# plt.yticks(fontsize=20)\n",
    "# # 设置坐标标签字体大小\n",
    "# ax.set_xlabel(..., fontsize=20)\n",
    "# ax.set_ylabel(..., fontsize=20)\n",
    "# # 设置图例字体大小\n",
    "# ax.legend(..., fontsize=20)\n"
   ]
  },
  {
   "cell_type": "code",
   "execution_count": 203,
   "metadata": {},
   "outputs": [],
   "source": [
    "FONTSIZE = 12\n"
   ]
  },
  {
   "cell_type": "markdown",
   "metadata": {},
   "source": [
    "# "
   ]
  },
  {
   "cell_type": "code",
   "execution_count": 249,
   "metadata": {},
   "outputs": [],
   "source": [
    "#‘serif’, ‘sans-serif’, ‘cursive’, ‘fantasy’, or ‘monospace’\n",
    "class Yanplotlib():\n",
    "    def __init__(self,fontsize = 13, font ='serif', weight = 'bold'):\n",
    "        self.fontsize= fontsize\n",
    "        self.font = font\n",
    "        self.weight = weight\n",
    "        self.font_dict = {'family' : self.font,\n",
    "        'weight' : self.weight,\n",
    "        'size' : self.fontsize}\n",
    "        self.ticks_font = matplotlib.font_manager.FontProperties(family=self.font, size=fontsize, weight=weight)\n",
    "        \n",
    "    def after_plot(self,**kw_args):\n",
    "        #设置坐标刻度值的大小以及刻度值的字体\n",
    "        plt.tick_params(labelsize=self.fontsize)\n",
    "        labels = self.ax.get_xticklabels() + self.ax.get_yticklabels()\n",
    "        [label.set_fontname(self.font) for label in labels]\n",
    "        [label.set_fontproperties(self.ticks_font)  for label in labels]\n",
    "        try:\n",
    "            xticks_val = kw_args['xticks_val']\n",
    "            xticks_label = kw_args['xticks_label']\n",
    "            plt.xticks(xticks_val,xticks_label)\n",
    "        except:\n",
    "            plt.xticks()\n",
    "        try:            \n",
    "            yticks_val = kw_args['yticks_val']\n",
    "            yticks_label = kw_args['yticks_label']\n",
    "            plt.xticks(yticks_val,yticks_label)\n",
    "        except:\n",
    "            plt.yticks()\n",
    "            \n",
    "        xlabel =  kw_args['xlabel']\n",
    "        ylabel =  kw_args['ylabel']\n",
    "        try:\n",
    "            title =  kw_args['title']\n",
    "            plt.title(title,fontdict=self.font_dict)\n",
    "        except:\n",
    "            plt.title(fontdict=self.font_dict)\n",
    "        name = kw_args['name']\n",
    "        self.ax.set_xlabel(xlabel,self.font_dict)\n",
    "        self.ax.set_ylabel(ylabel, self.font_dict)\n",
    "        plt.legend(prop=self.font_dict)\n",
    "        plt.show()\n",
    "        plt.savefig(name)\n",
    "        \n",
    "    def before_plot(self,figsize = (4,5)):\n",
    "        self.fig, self.ax = plt.subplots(figsize=figsize)\n",
    "        \n",
    "    def set_fontsize(self,size):\n",
    "        self.fontsize = size\n",
    "\n",
    "\n",
    "\n",
    "        "
   ]
  },
  {
   "cell_type": "code",
   "execution_count": 250,
   "metadata": {},
   "outputs": [],
   "source": [
    "yan = Yanplotlib()\n"
   ]
  },
  {
   "cell_type": "code",
   "execution_count": 251,
   "metadata": {
    "scrolled": false
   },
   "outputs": [
    {
     "data": {
      "image/png": "[encoded data removed]",
      "text/plain": [
       "<Figure size 720x360 with 1 Axes>"
      ]
     },
     "metadata": {
      "needs_background": "light"
     },
     "output_type": "display_data"
    },
    {
     "data": {
      "text/plain": [
       "<Figure size 432x288 with 0 Axes>"
      ]
     },
     "metadata": {},
     "output_type": "display_data"
    }
   ],
   "source": [
    "cost_opt_lst = []\n",
    "cost_a2_lst = []\n",
    "cost_heu_lst = []\n",
    "\n",
    "for key, item in result_dict.items():\n",
    "    cost_a2_lst.append(item['cost'])\n",
    "    cost_opt_lst.append(item['cost_opt'])\n",
    "    cost_heu_lst.append(item['cost_heu'])\n",
    "cost = [cost_opt_lst,cost_a2_lst,cost_heu_lst]\n",
    "label = ['opt','a2','heu']\n",
    "lw = 4\n",
    "bar_width = 0.3\n",
    "colors = ['r','g','b']\n",
    "ticks_val = np.linspace(0,5,4)\n",
    "\n",
    "yan.before_plot((10,5))\n",
    "for index,val in enumerate(label):\n",
    "    plt.bar(ticks_val+index*bar_width,cost[index],width=bar_width,color=colors[index],label=label[index])\n",
    "\n",
    "kw_args = {'xticks_val':ticks_val+bar_width,\n",
    "                'xticks_label':list(result_dict.keys()),\n",
    "                'xlabel':'Version Adaptation',\n",
    "                'ylabel':'Deployment Cost',\n",
    "                'name':'cost.pdf',\n",
    "                'title':'Cost on CPU'\n",
    "          }\n",
    "yan.after_plot(**kw_args)"
   ]
  },
  {
   "cell_type": "code",
   "execution_count": 16,
   "metadata": {
    "scrolled": true
   },
   "outputs": [
    {
     "name": "stdout",
     "output_type": "stream",
     "text": [
      "a2 49.044323756131746\n",
      "heu 58.745269796776455\n",
      "adapative_m 92.0\n",
      "fix 92.0\n",
      "adapative_d 77.42992291520673\n"
     ]
    }
   ],
   "source": [
    "for key, item in result_dict .items():\n",
    "    print(key,item['avg_bw'])\n"
   ]
  },
  {
   "cell_type": "markdown",
   "metadata": {},
   "source": [
    "# avg latency  with time"
   ]
  },
  {
   "cell_type": "code",
   "execution_count": 23,
   "metadata": {},
   "outputs": [
    {
     "name": "stdout",
     "output_type": "stream",
     "text": [
      "[{'real_latency': 1.193387614999665, 'url': 'http://52.63.190.63:8502/v1/models/res18_dcp_2:classify', 'model_ver': 2, 'data_ver': 10, 'time': '13:6:56', 'batch': 1}, {'real_latency': 1.8472319670036086, 'url': 'http://52.63.190.63:8500/v1/models/res18_dcp_0:classify', 'model_ver': 0, 'data_ver': 0, 'time': '13:6:56', 'batch': 1}, {'real_latency': 2.0376623189949896, 'url': 'http://52.63.190.63:8500/v1/models/res18_dcp_0:classify', 'model_ver': 0, 'data_ver': 2, 'time': '13:6:56', 'batch': 1}, {'real_latency': 0.0012264590004633646, 'url': 'http://52.63.190.63:8505/v1/models/mobile_dcp_2:classify', 'model_ver': 2, 'data_ver': 6, 'time': '13:6:56', 'batch': 1}, {'real_latency': 0.001095999003155157, 'url': 'http://52.63.190.63:8504/v1/models/mobile_dcp_1:classify', 'model_ver': 1, 'data_ver': 1, 'time': '13:6:56', 'batch': 1}, {'real_latency': 0.9995180050027557, 'url': 'http://52.63.190.63:8501/v1/models/res18_dcp_1:classify', 'model_ver': 1, 'data_ver': 6, 'time': '13:6:56', 'batch': 1}, {'real_latency': 0.2404197759969975, 'url': 'http://52.63.190.63:8505/v1/models/mobile_dcp_2:classify', 'model_ver': 2, 'data_ver': 6, 'time': '13:6:56', 'batch': 1}, {'real_latency': 1.6385470959976374, 'url': 'http://52.63.190.63:8500/v1/models/res18_dcp_0:classify', 'model_ver': 0, 'data_ver': 8, 'time': '13:6:56', 'batch': 1}, {'real_latency': 0.202820698999858, 'url': 'http://52.63.190.63:8505/v1/models/mobile_dcp_2:classify', 'model_ver': 2, 'data_ver': 4, 'time': '13:6:56', 'batch': 1}, {'real_latency': 0.2403141790018708, 'url': 'http://52.63.190.63:8504/v1/models/mobile_dcp_1:classify', 'model_ver': 1, 'data_ver': 7, 'time': '13:6:56', 'batch': 1}, {'real_latency': 2.3360433650013874, 'url': 'http://52.63.190.63:8500/v1/models/res18_dcp_0:classify', 'model_ver': 0, 'data_ver': 0, 'time': '13:6:56', 'batch': 1}, {'real_latency': 0.22731051499795285, 'url': 'http://52.63.190.63:8504/v1/models/mobile_dcp_1:classify', 'model_ver': 1, 'data_ver': 2, 'time': '13:6:56', 'batch': 1}, {'real_latency': 1.320816528997966, 'url': 'http://52.63.190.63:8506/v1/models/mobile_dcp_3:classify', 'model_ver': 3, 'data_ver': 6, 'time': '13:6:56', 'batch': 1}, {'real_latency': 2.0692615440057125, 'url': 'http://52.63.190.63:8500/v1/models/res18_dcp_0:classify', 'model_ver': 0, 'data_ver': 0, 'time': '13:6:56', 'batch': 1}, {'real_latency': 0.6586876959991059, 'url': 'http://52.63.190.63:8504/v1/models/mobile_dcp_1:classify', 'model_ver': 1, 'data_ver': 4, 'time': '13:6:56', 'batch': 1}, {'real_latency': 0.8177923520015611, 'url': 'http://52.63.190.63:8502/v1/models/res18_dcp_2:classify', 'model_ver': 2, 'data_ver': 10, 'time': '13:6:56', 'batch': 1}, {'real_latency': 1.6761537460006366, 'url': 'http://52.63.190.63:8502/v1/models/res18_dcp_2:classify', 'model_ver': 2, 'data_ver': 10, 'time': '13:6:56', 'batch': 1}, {'real_latency': 0.8547413419983059, 'url': 'http://52.63.190.63:8501/v1/models/res18_dcp_1:classify', 'model_ver': 1, 'data_ver': 2, 'time': '13:6:56', 'batch': 1}]\n"
     ]
    }
   ],
   "source": [
    "# time_lst = []\n",
    "# latency_lst = []\n",
    "# req_lst = []\n",
    "# req_dict = {}\n",
    "# history_dict = {}\n",
    "# latency_dict = {}\n",
    "# time_dict = {}\n",
    "# config_dict = {}\n",
    "\n",
    "for key, item in result_dict.items():\n",
    "    history_dict[key] = item['history']\n",
    "\n",
    "for key in result_dict.keys():\n",
    "    req_lst = [i['requests'] for i in history_dict[key]]\n",
    "    req_dict[key] = req_lst\n",
    "    config_dict[key] =  [list(i.values())[0] for i in list(req_dict[key])]\n",
    "    latency_dict[key] =  [i for i in config_dict[key]]\n",
    "\n",
    "\n",
    "    \n",
    "    \n",
    "print(latency_dict['a2'])"
   ]
  },
  {
   "cell_type": "code",
   "execution_count": null,
   "metadata": {},
   "outputs": [],
   "source": [
    "s_list"
   ]
  },
  {
   "cell_type": "code",
   "execution_count": 74,
   "metadata": {},
   "outputs": [
    {
     "ename": "SyntaxError",
     "evalue": "unexpected EOF while parsing (<ipython-input-74-ad31499351d4>, line 5)",
     "output_type": "error",
     "traceback": [
      "\u001b[0;36m  File \u001b[0;32m\"<ipython-input-74-ad31499351d4>\"\u001b[0;36m, line \u001b[0;32m5\u001b[0m\n\u001b[0;31m    print(np.array(data.values())\u001b[0m\n\u001b[0m                                 ^\u001b[0m\n\u001b[0;31mSyntaxError\u001b[0m\u001b[0;31m:\u001b[0m unexpected EOF while parsing\n"
     ]
    }
   ],
   "source": [
    "data = {}\n",
    "for file in os.listdir(): \n",
    "    if file.endswith('npy'):\n",
    "        data[file[:6]]=np.load(file)\n",
    "print(np.array(data.values())"
   ]
  },
  {
   "cell_type": "code",
   "execution_count": 58,
   "metadata": {},
   "outputs": [
    {
     "name": "stdout",
     "output_type": "stream",
     "text": [
      "Help on function xticks in module matplotlib.pyplot:\n",
      "\n",
      "xticks(ticks=None, labels=None, **kwargs)\n",
      "    Get or set the current tick locations and labels of the x-axis.\n",
      "    \n",
      "    Call signatures::\n",
      "    \n",
      "        locs, labels = xticks()           # Get locations and labels\n",
      "    \n",
      "        xticks(ticks, [labels], **kwargs)  # Set locations and labels\n",
      "    \n",
      "    Parameters\n",
      "    ----------\n",
      "    ticks : array_like\n",
      "        A list of positions at which ticks should be placed. You can pass an\n",
      "        empty list to disable xticks.\n",
      "    \n",
      "    labels : array_like, optional\n",
      "        A list of explicit labels to place at the given *locs*.\n",
      "    \n",
      "    **kwargs\n",
      "        :class:`.Text` properties can be used to control the appearance of\n",
      "        the labels.\n",
      "    \n",
      "    Returns\n",
      "    -------\n",
      "    locs\n",
      "        An array of label locations.\n",
      "    labels\n",
      "        A list of `.Text` objects.\n",
      "    \n",
      "    Notes\n",
      "    -----\n",
      "    Calling this function with no arguments (e.g. ``xticks()``) is the pyplot\n",
      "    equivalent of calling `~.Axes.get_xticks` and `~.Axes.get_xticklabels` on\n",
      "    the current axes.\n",
      "    Calling this function with arguments is the pyplot equivalent of calling\n",
      "    `~.Axes.set_xticks` and `~.Axes.set_xticklabels` on the current axes.\n",
      "    \n",
      "    Examples\n",
      "    --------\n",
      "    Get the current locations and labels:\n",
      "    \n",
      "        >>> locs, labels = xticks()\n",
      "    \n",
      "    Set label locations:\n",
      "    \n",
      "        >>> xticks(np.arange(0, 1, step=0.2))\n",
      "    \n",
      "    Set text labels:\n",
      "    \n",
      "        >>> xticks(np.arange(5), ('Tom', 'Dick', 'Harry', 'Sally', 'Sue'))\n",
      "    \n",
      "    Set text labels and properties:\n",
      "    \n",
      "        >>> xticks(np.arange(12), calendar.month_name[1:13], rotation=20)\n",
      "    \n",
      "    Disable xticks:\n",
      "    \n",
      "        >>> xticks([])\n",
      "\n"
     ]
    }
   ],
   "source": [
    "help(plt.xticks)"
   ]
  },
  {
   "cell_type": "code",
   "execution_count": 11,
   "metadata": {},
   "outputs": [
    {
     "name": "stdout",
     "output_type": "stream",
     "text": [
      "result_dict = {}\n",
      "for file in os.listdir(): \n",
      "    if file.endswith('90.pkl'):\n",
      "        with open (f'./{file}','rb') as f:\n",
      "            print(file)\n",
      "            con = pickle.load(f)\n",
      "            print(file[7:-11])\n",
      "            result_dict[file[7:-11]] = con\n",
      "import numpy as np\n",
      "import matplotlib.pyplot as plt\n",
      "import os\n",
      "import pickle\n",
      "%matplotlib inlines\n",
      "import numpy as np\n",
      "import matplotlib.pyplot as plt\n",
      "import os\n",
      "import pickle\n",
      "%matplotlib inlines\n",
      "FONTSIZE = 13\n",
      "import numpy as np\n",
      "import matplotlib.pyplot as plt\n",
      "import os\n",
      "import pickle\n",
      "%matplotlib inline\n",
      "FONTSIZE = 13\n",
      "result_dict = {}\n",
      "for file in os.listdir(): \n",
      "    if file.endswith('90.pkl'):\n",
      "        with open (f'./{file}','rb') as f:\n",
      "            print(file)\n",
      "            con = pickle.load(f)\n",
      "            print(file[7:-11])\n",
      "            result_dict[file[7:-11]] = con\n",
      "# # 代码中的“...”代表省略的其他参数\n",
      "# ax = plt.subplot(111)\n",
      "# # 设置刻度字体大小\n",
      "# plt.xticks(fontsize=20)\n",
      "# plt.yticks(fontsize=20)\n",
      "# # 设置坐标标签字体大小\n",
      "# ax.set_xlabel(..., fontsize=20)\n",
      "# ax.set_ylabel(..., fontsize=20)\n",
      "# # 设置图例字体大小\n",
      "# ax.legend(..., fontsize=20)\n",
      "%history\n",
      "%history\n",
      "history\n"
     ]
    }
   ],
   "source": [
    "history"
   ]
  },
  {
   "cell_type": "code",
   "execution_count": 55,
   "metadata": {},
   "outputs": [
    {
     "name": "stdout",
     "output_type": "stream",
     "text": [
      "1\n"
     ]
    }
   ],
   "source": [
    "def print_kwargs(**kw_args):\n",
    "\tprint(kw_args['a'])\n",
    "\n",
    "a = {'a': 1, 'b': 2, 'c': 3, 'd': 4, 'e': 5}\n",
    "print_kwargs(**a) "
   ]
  },
  {
   "cell_type": "code",
   "execution_count": 198,
   "metadata": {},
   "outputs": [
    {
     "ename": "AttributeError",
     "evalue": "'silent_list' object has no attribute 'set_fontproperties'",
     "output_type": "error",
     "traceback": [
      "\u001b[0;31m---------------------------------------------------------------------------\u001b[0m",
      "\u001b[0;31mAttributeError\u001b[0m                            Traceback (most recent call last)",
      "\u001b[0;32m<ipython-input-198-c9bfef184078>\u001b[0m in \u001b[0;36m<module>\u001b[0;34m\u001b[0m\n\u001b[0;32m----> 1\u001b[0;31m \u001b[0mhelp\u001b[0m\u001b[0;34m(\u001b[0m\u001b[0max\u001b[0m\u001b[0;34m.\u001b[0m\u001b[0mget_xticklabels\u001b[0m\u001b[0;34m(\u001b[0m\u001b[0;34m)\u001b[0m\u001b[0;34m.\u001b[0m\u001b[0mset_fontproperties\u001b[0m\u001b[0;34m(\u001b[0m\u001b[0;34m)\u001b[0m\u001b[0;34m)\u001b[0m\u001b[0;34m\u001b[0m\u001b[0;34m\u001b[0m\u001b[0m\n\u001b[0m",
      "\u001b[0;31mAttributeError\u001b[0m: 'silent_list' object has no attribute 'set_fontproperties'"
     ]
    }
   ],
   "source": [
    "help(ax.get_xticklabels().set_fontproperties())"
   ]
  },
  {
   "cell_type": "code",
   "execution_count": null,
   "metadata": {},
   "outputs": [],
   "source": []
  }
 ],
 "metadata": {
  "kernelspec": {
   "display_name": "Python 3",
   "language": "python",
   "name": "python3"
  }
 },
 "nbformat": 4,
 "nbformat_minor": 2
}
